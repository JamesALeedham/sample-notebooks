{
 "cells": [
  {
   "cell_type": "code",
   "execution_count": 1,
   "id": "9dc53fde",
   "metadata": {},
   "outputs": [
    {
     "data": {
      "text/plain": "<IPython.core.display.HTML object>",
      "text/html": "\n    <form action=\"javascript:code_toggle()\"><input type=\"submit\" id=\"toggleButton\" value=\"Hide docstring\"></form>\n    \n         <script>\n         function code_toggle() {\n             if ($('div.cell.code_cell.rendered.selected div.input').css('display')!='none'){\n                 $('div.cell.code_cell.rendered.selected div.input').hide();\n             } else {\n                 $('div.cell.code_cell.rendered.selected div.input').show();\n             }\n         }\n         </script>\n\n     "
     },
     "metadata": {},
     "output_type": "display_data"
    }
   ],
   "source": [
    "from lusidtools.jupyter_tools import toggle_code\n",
    "\n",
    "\"\"\"Variable Funding Leg + Equity or Cash Instrument\n",
    "\n",
    "Demonstrates creation and pricing of a funding leg with \n",
    "variable notional and constructing a related position in\n",
    "an stock or underlying instrument. This construct can be used\n",
    "to represent the mechanics of a total return or equity swap.\n",
    "\n",
    "Attributes\n",
    "----------\n",
    "instruments\n",
    "aggregation\n",
    "market data store\n",
    "results store\n",
    "quotes\n",
    "\"\"\"\n",
    "\n",
    "toggle_code(\"Hide docstring\")"
   ]
  },
  {
   "cell_type": "markdown",
   "id": "5d0d3cd1",
   "metadata": {},
   "source": [
    "### Pricing a Funding Leg with an Equity Position"
   ]
  },
  {
   "cell_type": "code",
   "execution_count": 2,
   "id": "f84b2d3f",
   "metadata": {},
   "outputs": [
    {
     "name": "stdout",
     "output_type": "stream",
     "text": [
      "LUSID Environment Initialised\n",
      "LUSID SDK Version:  0.6.8671.0\n"
     ]
    }
   ],
   "source": [
    "# Import LUSID\n",
    "import lusid\n",
    "import lusid.models as lm\n",
    "from lusidtools.cocoon.cocoon import load_from_data_frame\n",
    "from lusidtools.cocoon.transaction_type_upload import upsert_transaction_type_alias\n",
    "from lusidtools.cocoon.cocoon_printer import (\n",
    "    format_portfolios_response,\n",
    "    format_quotes_response,\n",
    ")\n",
    "\n",
    "# Import notebook specific utilities\n",
    "from utilities.instrument_utils import (\n",
    "    add_utc_to_df,\n",
    "    valuation_response_to_df,\n",
    "    upsert_instrument,\n",
    "    create_property,\n",
    "    create_funding_leg,\n",
    "    equity_swap_transaction\n",
    ")\n",
    "from utilities.formatting_tools import clean_df_cols\n",
    "\n",
    "from lusidtools.pandas_utils.lusid_pandas import lusid_response_to_data_frame\n",
    "\n",
    "# Import Libraries\n",
    "from datetime import datetime, timedelta, time\n",
    "from dateutil.parser import parse\n",
    "import pytz\n",
    "import pandas as pd\n",
    "from lusidjam.refreshing_token import RefreshingToken\n",
    "import os\n",
    "\n",
    "# Set the secrets path\n",
    "secrets_path = os.getenv(\"FBN_SECRETS_PATH\")\n",
    "\n",
    "# For running the notebook locally\n",
    "if secrets_path is None:\n",
    "    secrets_path = os.path.join(os.path.dirname(os.getcwd()), \"secrets.json\")\n",
    "\n",
    "api_factory = lusid.utilities.ApiClientFactory(\n",
    "        token=RefreshingToken(),\n",
    "        api_secrets_filename = secrets_path,\n",
    "        app_name=\"LusidJupyterNotebook\")\n",
    "\n",
    "# Set DataFrame display formats\n",
    "pd.set_option(\"display.max_columns\", None)\n",
    "pd.set_option(\"display.max_rows\", None)\n",
    "pd.options.display.float_format = \"{:,.2f}\".format\n",
    "\n",
    "print ('LUSID Environment Initialised')\n",
    "print ('LUSID SDK Version: ', api_factory.build(lusid.api.ApplicationMetadataApi).get_lusid_versions().build_version)"
   ]
  },
  {
   "cell_type": "code",
   "execution_count": 3,
   "id": "7c32fe38",
   "metadata": {},
   "outputs": [],
   "source": [
    "# Setup the apis we'll use in this notebook:\n",
    "aggregation_api = api_factory.build(lusid.AggregationApi)\n",
    "quotes_api = api_factory.build(lusid.api.QuotesApi)\n",
    "transaction_portfolios_api = api_factory.build(lusid.api.TransactionPortfoliosApi)\n",
    "configuration_recipe_api = api_factory.build(lusid.ConfigurationRecipeApi)\n",
    "\n",
    "# Set the scope we'll use in this notebook:\n",
    "scope = \"variable-funding-leg\""
   ]
  },
  {
   "cell_type": "code",
   "execution_count": 4,
   "outputs": [],
   "source": [
    " # Helper tools\n",
    "def date_generator(start_date, period_length):\n",
    "    for single_date in (start_date + timedelta(date) for date in range(period_length)):\n",
    "        yield single_date"
   ],
   "metadata": {
    "collapsed": false,
    "pycharm": {
     "name": "#%%\n"
    }
   }
  },
  {
   "cell_type": "markdown",
   "id": "645b805b",
   "metadata": {},
   "source": [
    "# 1. Setup"
   ]
  },
  {
   "cell_type": "markdown",
   "id": "791043e8",
   "metadata": {},
   "source": [
    "## 1.1 Create Instruments\n",
    "\n",
    "We begin by defining the funding leg instruments, which will be associated with each swap. Under this implementation,\n",
    "for a given set of equities we have pre-agreed financing term with a broker, with varying terms for Long/Short\n",
    "positions.\n",
    "\n",
    "This means, that a funding leg instrument will contain the terms that relate to multiple underlying instruments, against\n",
    "which a basket of equities can be traded.\n",
    "\n",
    "Within the example we have 2 unique _FundingLeg_ instruments defined as is demonstrated below."
   ]
  },
  {
   "cell_type": "code",
   "execution_count": 5,
   "outputs": [
    {
     "name": "stderr",
     "output_type": "stream",
     "text": [
      "<ipython-input-5-6258ddd10a08>:8: SettingWithCopyWarning: \n",
      "A value is trying to be set on a copy of a slice from a DataFrame.\n",
      "Try using .loc[row_indexer,col_indexer] = value instead\n",
      "\n",
      "See the caveats in the documentation: https://pandas.pydata.org/pandas-docs/stable/user_guide/indexing.html#returning-a-view-versus-a-copy\n",
      "  instruments_df[\"spread\"] = instruments_df[\"spread\"]/100\n"
     ]
    },
    {
     "data": {
      "text/plain": "  transaction_id  notional  number_of_shares equity_identifier  \\\n0         TXN001    200000                60              AMZN   \n4         TXN005    200000                60              AMZN   \n\n  funding_leg_identifier transaction_currency direction  \\\n0          FundingLeg001                  USD         S   \n4          FundingLeg002                  USD         L   \n\n                 trade_date        linking_id identifier_type  day_count  \\\n0 2021-04-05 00:00:00+00:00  EQ-SW-SHORT-AMZN  ClientInternal  Actual360   \n4 2021-04-15 00:00:00+00:00   EQ-SW-LONG-AMZN  ClientInternal  Actual360   \n\n                 start_date             maturity_date frequency pay_receive  \\\n0 2021-04-01 00:00:00+00:00 2022-04-01 00:00:00+00:00        1M     Receive   \n4 2021-04-01 00:00:00+00:00 2022-04-01 00:00:00+00:00        1M         Pay   \n\n   spread index_reference  \n0   -0.30    USD.LIBOR.1M  \n4    0.30    USD.LIBOR.1M  ",
      "text/html": "<div>\n<style scoped>\n    .dataframe tbody tr th:only-of-type {\n        vertical-align: middle;\n    }\n\n    .dataframe tbody tr th {\n        vertical-align: top;\n    }\n\n    .dataframe thead th {\n        text-align: right;\n    }\n</style>\n<table border=\"1\" class=\"dataframe\">\n  <thead>\n    <tr style=\"text-align: right;\">\n      <th></th>\n      <th>transaction_id</th>\n      <th>notional</th>\n      <th>number_of_shares</th>\n      <th>equity_identifier</th>\n      <th>funding_leg_identifier</th>\n      <th>transaction_currency</th>\n      <th>direction</th>\n      <th>trade_date</th>\n      <th>linking_id</th>\n      <th>identifier_type</th>\n      <th>day_count</th>\n      <th>start_date</th>\n      <th>maturity_date</th>\n      <th>frequency</th>\n      <th>pay_receive</th>\n      <th>spread</th>\n      <th>index_reference</th>\n    </tr>\n  </thead>\n  <tbody>\n    <tr>\n      <th>0</th>\n      <td>TXN001</td>\n      <td>200000</td>\n      <td>60</td>\n      <td>AMZN</td>\n      <td>FundingLeg001</td>\n      <td>USD</td>\n      <td>S</td>\n      <td>2021-04-05 00:00:00+00:00</td>\n      <td>EQ-SW-SHORT-AMZN</td>\n      <td>ClientInternal</td>\n      <td>Actual360</td>\n      <td>2021-04-01 00:00:00+00:00</td>\n      <td>2022-04-01 00:00:00+00:00</td>\n      <td>1M</td>\n      <td>Receive</td>\n      <td>-0.30</td>\n      <td>USD.LIBOR.1M</td>\n    </tr>\n    <tr>\n      <th>4</th>\n      <td>TXN005</td>\n      <td>200000</td>\n      <td>60</td>\n      <td>AMZN</td>\n      <td>FundingLeg002</td>\n      <td>USD</td>\n      <td>L</td>\n      <td>2021-04-15 00:00:00+00:00</td>\n      <td>EQ-SW-LONG-AMZN</td>\n      <td>ClientInternal</td>\n      <td>Actual360</td>\n      <td>2021-04-01 00:00:00+00:00</td>\n      <td>2022-04-01 00:00:00+00:00</td>\n      <td>1M</td>\n      <td>Pay</td>\n      <td>0.30</td>\n      <td>USD.LIBOR.1M</td>\n    </tr>\n  </tbody>\n</table>\n</div>"
     },
     "execution_count": 5,
     "metadata": {},
     "output_type": "execute_result"
    }
   ],
   "source": [
    "# Read funding leg terms to df\n",
    "df = pd.read_csv(\"data/equity_swap_trades.csv\")\n",
    "df[[\"trade_date\",\"start_date\",\"maturity_date\"]] = df[[\"trade_date\",\"start_date\",\"maturity_date\"]].apply(pd.to_datetime, dayfirst=True)\n",
    "add_utc_to_df(df)\n",
    "\n",
    "# Separate unique funding leg instruments and scale spreads\n",
    "instruments_df = df.drop_duplicates(subset=['funding_leg_identifier'])\n",
    "instruments_df[\"spread\"] = instruments_df[\"spread\"]/100\n",
    "instruments_df"
   ],
   "metadata": {
    "collapsed": false,
    "pycharm": {
     "name": "#%%\n"
    }
   }
  },
  {
   "cell_type": "code",
   "execution_count": 6,
   "id": "f3fa9583",
   "metadata": {},
   "outputs": [
    {
     "name": "stdout",
     "output_type": "stream",
     "text": [
      "Instrument FundingLeg001 was successfully upserted into LUSID\n",
      "Instrument created with LUID:LUID_00003DFS\n",
      "Instrument FundingLeg002 was successfully upserted into LUSID\n",
      "Instrument created with LUID:LUID_00003DFU\n"
     ]
    }
   ],
   "source": [
    "# Create funding legs and upsert to LUSID\n",
    "for i, row in instruments_df.iterrows():\n",
    "    funding_leg = create_funding_leg(\n",
    "        start_date=row[\"start_date\"],\n",
    "        maturity_date=row[\"maturity_date\"],\n",
    "        currency=row[\"transaction_currency\"],\n",
    "        rate_or_spread=row[\"spread\"],\n",
    "        pay_receive=row[\"pay_receive\"],\n",
    "        payment_frequency=row[\"frequency\"],\n",
    "        day_count_convention=row[\"day_count\"],\n",
    "        index_reference=row[\"index_reference\"],\n",
    "        index_tenor=row[\"frequency\"],\n",
    "        notional=0,\n",
    "    )\n",
    "    upsert_instrument(\n",
    "        api_factory=api_factory,\n",
    "        name=row[\"funding_leg_identifier\"],\n",
    "        identifier=row[\"funding_leg_identifier\"],\n",
    "        definition=funding_leg\n",
    "    )"
   ]
  },
  {
   "cell_type": "markdown",
   "id": "ac7ff6b6",
   "metadata": {},
   "source": [
    "Next we will define and upsert the equity that will act as the underlying and paired with the funding leg to construct the swap. In this case we will be using an **AMZN** stock as part of the example."
   ]
  },
  {
   "cell_type": "code",
   "execution_count": 7,
   "id": "2088bd35",
   "metadata": {},
   "outputs": [],
   "source": [
    "# Set the details of the stock\n",
    "equity_name = \"Amazon\"\n",
    "equity_identifier = \"AMZN\"\n",
    "dom_ccy = \"USD\""
   ]
  },
  {
   "cell_type": "code",
   "execution_count": 8,
   "id": "f93df0b4",
   "metadata": {},
   "outputs": [
    {
     "name": "stdout",
     "output_type": "stream",
     "text": [
      "Instrument Amazon was successfully upserted into LUSID\n",
      "Instrument created with LUID:LUID_00003DFT\n"
     ]
    }
   ],
   "source": [
    "# Define the instrument\n",
    "equity = lm.SimpleInstrument(\n",
    "    instrument_type=\"SimpleInstrument\",\n",
    "    dom_ccy=dom_ccy,\n",
    "    asset_class=\"Equities\",\n",
    "    simple_instrument_type=\"Equity\",\n",
    ")\n",
    "\n",
    "# Upsert the instrument\n",
    "upsert_instrument(api_factory=api_factory, name=equity_name, identifier=equity_identifier, definition=equity)"
   ]
  },
  {
   "cell_type": "markdown",
   "id": "98105d49",
   "metadata": {},
   "source": [
    "## 1.2 Setting up Market Data"
   ]
  },
  {
   "cell_type": "code",
   "execution_count": 9,
   "id": "dd46c124",
   "metadata": {},
   "outputs": [],
   "source": [
    "# Scope used to store our market data\n",
    "market_data_scope = \"FBN\"\n",
    "# The market data supplier\n",
    "market_supplier = 'Lusid'"
   ]
  },
  {
   "cell_type": "markdown",
   "id": "5c1176ea",
   "metadata": {},
   "source": [
    "## 1.3 Equity Quotes\n",
    "\n",
    "For valuation and P&L purposes we will also require some simple market data, or quotes. We begin by adding prices for\n",
    "the underlying equity."
   ]
  },
  {
   "cell_type": "code",
   "execution_count": 10,
   "id": "caf38b8f",
   "metadata": {},
   "outputs": [
    {
     "data": {
      "text/plain": "                       Date    Price Ticker\n0 2020-12-15 00:00:00+00:00 3,165.12   AMZN\n1 2020-12-16 00:00:00+00:00 3,240.96   AMZN\n2 2020-12-17 00:00:00+00:00 3,236.08   AMZN\n3 2020-12-18 00:00:00+00:00 3,201.65   AMZN\n4 2020-12-21 00:00:00+00:00 3,206.18   AMZN",
      "text/html": "<div>\n<style scoped>\n    .dataframe tbody tr th:only-of-type {\n        vertical-align: middle;\n    }\n\n    .dataframe tbody tr th {\n        vertical-align: top;\n    }\n\n    .dataframe thead th {\n        text-align: right;\n    }\n</style>\n<table border=\"1\" class=\"dataframe\">\n  <thead>\n    <tr style=\"text-align: right;\">\n      <th></th>\n      <th>Date</th>\n      <th>Price</th>\n      <th>Ticker</th>\n    </tr>\n  </thead>\n  <tbody>\n    <tr>\n      <th>0</th>\n      <td>2020-12-15 00:00:00+00:00</td>\n      <td>3,165.12</td>\n      <td>AMZN</td>\n    </tr>\n    <tr>\n      <th>1</th>\n      <td>2020-12-16 00:00:00+00:00</td>\n      <td>3,240.96</td>\n      <td>AMZN</td>\n    </tr>\n    <tr>\n      <th>2</th>\n      <td>2020-12-17 00:00:00+00:00</td>\n      <td>3,236.08</td>\n      <td>AMZN</td>\n    </tr>\n    <tr>\n      <th>3</th>\n      <td>2020-12-18 00:00:00+00:00</td>\n      <td>3,201.65</td>\n      <td>AMZN</td>\n    </tr>\n    <tr>\n      <th>4</th>\n      <td>2020-12-21 00:00:00+00:00</td>\n      <td>3,206.18</td>\n      <td>AMZN</td>\n    </tr>\n  </tbody>\n</table>\n</div>"
     },
     "execution_count": 10,
     "metadata": {},
     "output_type": "execute_result"
    }
   ],
   "source": [
    "# Read quotes and adjust date objects\n",
    "quotes_df = pd.read_csv(\"data/amzn_prices.csv\")\n",
    "quotes_df[\"Date\"] = pd.to_datetime(quotes_df[\"Date\"], dayfirst=True)\n",
    "add_utc_to_df(quotes_df)\n",
    "quotes_df.head()"
   ]
  },
  {
   "cell_type": "code",
   "execution_count": 11,
   "id": "0c0dc9f8",
   "metadata": {},
   "outputs": [
    {
     "data": {
      "text/plain": "   success  failed  errors\n0      253       0       0",
      "text/html": "<div>\n<style scoped>\n    .dataframe tbody tr th:only-of-type {\n        vertical-align: middle;\n    }\n\n    .dataframe tbody tr th {\n        vertical-align: top;\n    }\n\n    .dataframe thead th {\n        text-align: right;\n    }\n</style>\n<table border=\"1\" class=\"dataframe\">\n  <thead>\n    <tr style=\"text-align: right;\">\n      <th></th>\n      <th>success</th>\n      <th>failed</th>\n      <th>errors</th>\n    </tr>\n  </thead>\n  <tbody>\n    <tr>\n      <th>0</th>\n      <td>253</td>\n      <td>0</td>\n      <td>0</td>\n    </tr>\n  </tbody>\n</table>\n</div>"
     },
     "metadata": {},
     "output_type": "display_data"
    }
   ],
   "source": [
    "# Create a quotes mapping for Lusid Python Tools\n",
    "quotes_mapping = {\n",
    "    \"quote_id.quote_series_id.instrument_id_type\": \"$ClientInternal\",\n",
    "    \"quote_id.effective_at\": \"Date\",\n",
    "    \"quote_id.quote_series_id.field\": \"$mid\",\n",
    "    \"quote_id.quote_series_id.provider\": \"$Lusid\",\n",
    "    \"quote_id.quote_series_id.quote_type\": \"$Price\",\n",
    "    \"quote_id.quote_series_id.instrument_id\": \"Ticker\",\n",
    "    \"metric_value.value\": \"Price\",\n",
    "    \"metric_value.unit\": \"$USD\",\n",
    "}\n",
    "\n",
    "result = load_from_data_frame(\n",
    "    api_factory = api_factory,\n",
    "    scope=market_data_scope,\n",
    "    data_frame=quotes_df,\n",
    "    mapping_required=quotes_mapping,\n",
    "    mapping_optional={},\n",
    "    file_type=\"quotes\"\n",
    ")\n",
    "\n",
    "succ, failed, errors = format_quotes_response(result)\n",
    "display(pd.DataFrame(data=[{\"success\": len(succ), \"failed\": len(failed), \"errors\": len(errors)}]))"
   ]
  },
  {
   "cell_type": "markdown",
   "id": "3ae177a1",
   "metadata": {},
   "source": [
    "## 1.4 Funding Leg Rates\n",
    "\n",
    "We will also need USD Libor fixings for our swap reset dates. For the purposes of the demo we will fix the rate at 1% in\n",
    "the valuation period."
   ]
  },
  {
   "cell_type": "code",
   "execution_count": 12,
   "id": "64c4d75f",
   "metadata": {},
   "outputs": [
    {
     "name": "stdout",
     "output_type": "stream",
     "text": [
      "Quotes successfully loaded into LUSID. 60 quotes loaded.\n"
     ]
    }
   ],
   "source": [
    "# Add quotes with constant fixings\n",
    "start_date = datetime(2021, 4, 1, tzinfo=pytz.utc)\n",
    "constant_libor_fixing = 0.01\n",
    "index_reference = \"USD.LIBOR.1M\"\n",
    "\n",
    "# Generate dates\n",
    "year_dates = date_generator(start_date, 60)\n",
    "instrument_resets = {\n",
    "    date.isoformat(): lusid.models.UpsertQuoteRequest(\n",
    "        quote_id=lusid.models.QuoteId(\n",
    "            quote_series_id=lusid.models.QuoteSeriesId(\n",
    "                provider=\"Lusid\",\n",
    "                instrument_id=index_reference,\n",
    "                instrument_id_type=\"RIC\",\n",
    "                quote_type=\"Rate\",\n",
    "                field=\"mid\",\n",
    "            ),\n",
    "            effective_at=date,\n",
    "        ),\n",
    "        metric_value=lusid.models.MetricValue(value=constant_libor_fixing, unit=\"rate\"),\n",
    "    )\n",
    "    for date in year_dates\n",
    "}\n",
    "\n",
    "#Upsert the quotes into LUSID\n",
    "response = quotes_api.upsert_quotes(scope=market_data_scope, request_body=instrument_resets)\n",
    "\n",
    "if response.failed == {}:\n",
    "    print(\n",
    "        f\"Quotes successfully loaded into LUSID. {len(response.values)} quotes loaded.\"\n",
    "    )\n",
    "\n",
    "else:\n",
    "    print(\n",
    "        f\"Some failures occurred during quotes upsertion, {len(response.failed)} did not get loaded into LUSID.\"\n",
    "    )"
   ]
  },
  {
   "cell_type": "markdown",
   "id": "c58b7bda",
   "metadata": {},
   "source": [
    "## 1.5 Create Portfolio and sub-holding key\n",
    "\n",
    "We continue using the `load_from_data_frame` tool, but in this case use it to first build out a portfolio under the scope setup below.\n",
    "\n",
    "We will also have to create the `LinkId` property, which is to be used as a sub-holding key for the portfolio that links the equity and funding leg component together."
   ]
  },
  {
   "cell_type": "code",
   "execution_count": 13,
   "id": "f9fda634",
   "metadata": {},
   "outputs": [
    {
     "name": "stdout",
     "output_type": "stream",
     "text": [
      "Property Transaction/common/LinkId already exists\n",
      "Property Transaction/common/HoldingClass already exists\n"
     ]
    }
   ],
   "source": [
    "create_property(api_factory=api_factory, name=\"Linking ID\", domain=\"Transaction\", scope=\"common\", code=\"LinkId\", data_type=\"string\")\n",
    "create_property(api_factory=api_factory, name=\"Holding Class\", domain=\"Transaction\", scope=\"common\", code=\"HoldingClass\", data_type=\"string\")"
   ]
  },
  {
   "cell_type": "code",
   "execution_count": 14,
   "outputs": [],
   "source": [
    "# Setup scope and code for the portfolio\n",
    "trading_scope = \"Finbourne-Examples\"\n",
    "trading_code = \"FundingLegWithUnderlying\"\n",
    "\n",
    "# Set sub-holding keys\n",
    "sub_holding_keys = [\"LinkId\", \"HoldingClass\"]\n",
    "\n",
    "# Setup a dataframe from which we will creat the portfolio\n",
    "data = {'portfolio_code':  [trading_code],\n",
    "        'portfolio_name': [trading_code],\n",
    "       }\n",
    "\n",
    "portfolio_df= pd.DataFrame(data, columns=['portfolio_code','portfolio_name'])\n",
    "\n",
    "# Create a mapping schema for the portfolio\n",
    "portfolio_mapping = {\n",
    "    \"required\": {\n",
    "        \"code\": \"portfolio_code\",\n",
    "        \"display_name\": \"portfolio_name\",\n",
    "        \"base_currency\": \"$USD\",\n",
    "    },\n",
    "    \"optional\": {\"created\": \"$2019-01-01T00:00:00+00:00\"},\n",
    "}"
   ],
   "metadata": {
    "collapsed": false,
    "pycharm": {
     "name": "#%%\n"
    }
   }
  },
  {
   "cell_type": "code",
   "execution_count": 15,
   "id": "c028792e",
   "metadata": {},
   "outputs": [
    {
     "data": {
      "text/plain": "   success  failed\n0        1       0",
      "text/html": "<div>\n<style scoped>\n    .dataframe tbody tr th:only-of-type {\n        vertical-align: middle;\n    }\n\n    .dataframe tbody tr th {\n        vertical-align: top;\n    }\n\n    .dataframe thead th {\n        text-align: right;\n    }\n</style>\n<table border=\"1\" class=\"dataframe\">\n  <thead>\n    <tr style=\"text-align: right;\">\n      <th></th>\n      <th>success</th>\n      <th>failed</th>\n    </tr>\n  </thead>\n  <tbody>\n    <tr>\n      <th>0</th>\n      <td>1</td>\n      <td>0</td>\n    </tr>\n  </tbody>\n</table>\n</div>"
     },
     "execution_count": 15,
     "metadata": {},
     "output_type": "execute_result"
    }
   ],
   "source": [
    "# A portfolio can be loaded using a dataframe by setting file_type to \"portfolios\"\n",
    "result = load_from_data_frame(\n",
    "    api_factory=api_factory,\n",
    "    scope=trading_scope,\n",
    "    data_frame=portfolio_df,\n",
    "    mapping_required=portfolio_mapping[\"required\"],\n",
    "    mapping_optional=portfolio_mapping[\"optional\"],\n",
    "    file_type=\"portfolios\",\n",
    "    sub_holding_keys=sub_holding_keys,\n",
    "    sub_holding_keys_scope=\"common\"\n",
    ")\n",
    "\n",
    "succ, failed = format_portfolios_response(result)\n",
    "pd.DataFrame(data=[{\"success\": len(succ), \"failed\": len(failed)}])"
   ]
  },
  {
   "cell_type": "markdown",
   "id": "c426e1ef",
   "metadata": {},
   "source": [
    "# 1.6 Configure and book transactions"
   ]
  },
  {
   "cell_type": "markdown",
   "id": "5a92e243",
   "metadata": {},
   "source": [
    "With the portfolio in LUSID, we can start booking the transactions against our swap.\n",
    "However, before we carry on we will look to configure transaction types that will correctly allocate the costs of\n",
    "entering a TRS position for the portfolio.\n",
    "\n",
    "As entering a position doesn't incur\n",
    "any actual cash movements, the market value of the equity component in this example can distort the P&L figures, as\n",
    "there is no associated cost. As a consequence this makes the portfolio's total market value jump by value of the equity\n",
    "position.\n",
    "\n",
    "To mitigate this, we will create transaction types that bucket\n",
    "a _notional cost_, and classify this as `Synthetic-Cash` under the previously declared `HoldingClass` property. We will\n",
    "also classify the other movements as part of this holding class property."
   ]
  },
  {
   "cell_type": "code",
   "execution_count": 16,
   "outputs": [],
   "source": [
    "# Prepare the Transaction Type model for new transaction type\n",
    "new_transaction_config = [\n",
    "    lm.TransactionConfigurationDataRequest(\n",
    "        aliases=[\n",
    "            lm.TransactionConfigurationTypeAlias(\n",
    "                type=\"LongSyntheticUnderlying\",\n",
    "                description=\"A Synthetic long position with associated notional cost\",\n",
    "                transaction_class=\"default\",\n",
    "                transaction_group=\"default\",\n",
    "                transaction_roles=\"Longer\",\n",
    "            )\n",
    "        ],\n",
    "        movements=[\n",
    "            lm.TransactionConfigurationMovementDataRequest(\n",
    "                movement_types=\"StockMovement\",\n",
    "                side=\"Side1\",\n",
    "                direction=1,\n",
    "                properties={},\n",
    "                mappings=[\n",
    "                    lm.TransactionPropertyMappingRequest(\n",
    "                        property_key=\"Transaction/common/HoldingClass\",\n",
    "                        set_to=\"Positions\"\n",
    "                    )\n",
    "                ],\n",
    "            ),\n",
    "            lm.TransactionConfigurationMovementDataRequest(\n",
    "                movement_types=\"CashCommitment\",\n",
    "                side=\"Side2\",\n",
    "                direction=-1,\n",
    "                properties={},\n",
    "                mappings=[\n",
    "                    lm.TransactionPropertyMappingRequest(\n",
    "                        property_key=\"Transaction/common/HoldingClass\",\n",
    "                        set_to=\"Synthetic-Cash\"\n",
    "                    )\n",
    "                ],\n",
    "            ),\n",
    "        ],\n",
    "    ),\n",
    "    lm.TransactionConfigurationDataRequest(\n",
    "        aliases=[\n",
    "            lm.TransactionConfigurationTypeAlias(\n",
    "                type=\"ShortSyntheticUnderlying\",\n",
    "                description=\"A Synthetic short position with associated notional cost\",\n",
    "                transaction_class=\"default\",\n",
    "                transaction_group=\"default\",\n",
    "                transaction_roles=\"Longer\",\n",
    "            )\n",
    "        ],\n",
    "        movements=[\n",
    "            lm.TransactionConfigurationMovementDataRequest(\n",
    "                movement_types=\"StockMovement\",\n",
    "                side=\"Side1\",\n",
    "                direction=-1,\n",
    "                properties={},\n",
    "                mappings=[\n",
    "                    lm.TransactionPropertyMappingRequest(\n",
    "                        property_key=\"Transaction/common/HoldingClass\",\n",
    "                        set_to=\"Positions\"\n",
    "                    )\n",
    "                ],\n",
    "            ),\n",
    "            lm.TransactionConfigurationMovementDataRequest(\n",
    "                movement_types=\"CashCommitment\",\n",
    "                side=\"Side2\",\n",
    "                direction=1,\n",
    "                properties={},\n",
    "                mappings=[\n",
    "                    lm.TransactionPropertyMappingRequest(\n",
    "                        property_key=\"Transaction/common/HoldingClass\",\n",
    "                        set_to=\"Synthetic-Cash\"\n",
    "                    )\n",
    "                ],\n",
    "            ),\n",
    "        ],\n",
    "    ),\n",
    "    lm.TransactionConfigurationDataRequest(\n",
    "        aliases=[\n",
    "            lm.TransactionConfigurationTypeAlias(\n",
    "                type=\"ShortFundingLeg\",\n",
    "                description=\"A short transaction against a Funding Leg\",\n",
    "                transaction_class=\"default\",\n",
    "                transaction_group=\"default\",\n",
    "                transaction_roles=\"Shorter\",\n",
    "            )\n",
    "        ],\n",
    "        movements=[\n",
    "            lm.TransactionConfigurationMovementDataRequest(\n",
    "                movement_types=\"StockMovement\",\n",
    "                side=\"Side1\",\n",
    "                direction=-1,\n",
    "                properties={},\n",
    "                mappings=[\n",
    "                    lm.TransactionPropertyMappingRequest(\n",
    "                        property_key=\"Transaction/common/HoldingClass\",\n",
    "                        set_to=\"Positions\"\n",
    "                    )\n",
    "                ],\n",
    "            ),\n",
    "        ],\n",
    "    ),\n",
    "    lm.TransactionConfigurationDataRequest(\n",
    "        aliases=[\n",
    "            lm.TransactionConfigurationTypeAlias(\n",
    "                type=\"LongFundingLeg\",\n",
    "                description=\"A long transaction against a Funding Leg\",\n",
    "                transaction_class=\"default\",\n",
    "                transaction_group=\"default\",\n",
    "                transaction_roles=\"Longer\",\n",
    "            )\n",
    "        ],\n",
    "        movements=[\n",
    "            lm.TransactionConfigurationMovementDataRequest(\n",
    "                movement_types=\"StockMovement\",\n",
    "                side=\"Side1\",\n",
    "                direction=1,\n",
    "                properties={},\n",
    "                mappings=[\n",
    "                    lm.TransactionPropertyMappingRequest(\n",
    "                        property_key=\"Transaction/common/HoldingClass\",\n",
    "                        set_to=\"Positions\"\n",
    "                    )\n",
    "                ],\n",
    "            ),\n",
    "        ],\n",
    "    ),\n",
    "]"
   ],
   "metadata": {
    "collapsed": false,
    "pycharm": {
     "name": "#%%\n"
    }
   }
  },
  {
   "cell_type": "code",
   "execution_count": 17,
   "outputs": [],
   "source": [
    " # Upload the transaction type\n",
    "new_txn_config = upsert_transaction_type_alias(\n",
    "    api_factory, new_transaction_config=new_transaction_config\n",
    ")"
   ],
   "metadata": {
    "collapsed": false,
    "pycharm": {
     "name": "#%%\n"
    }
   }
  },
  {
   "cell_type": "markdown",
   "source": [
    "For uploading the transactions we will use a utility function named `equity_swap_transaction()`, that is defined in a parallel file under utilities directory.\n",
    "\n",
    "The transaction will package the two separate equity and funding leg transactions into one, with the direction being set by the directional indicator `S` or `L`.\n",
    "In LUSID this will translate to either one of the previously defined transaction types, e.g. `LongSyntheticUnderlying` or `ShortSyntheticUnderlying` for long and short\n",
    "transactions against the funding leg.\n",
    "\n",
    "Additionally, we pass a `linkId` which can be used to group the 2 legs together, which will allow to view the holdings and any related analytics at the transactional instrument level."
   ],
   "metadata": {
    "collapsed": false,
    "pycharm": {
     "name": "#%% md\n"
    }
   }
  },
  {
   "cell_type": "code",
   "execution_count": 18,
   "id": "a2a29478",
   "metadata": {},
   "outputs": [
    {
     "data": {
      "text/plain": "{'href': 'https://demosetup.lusid.com/api/api/transactionportfolios/Finbourne-Examples/FundingLegWithUnderlying/transactions?asAt=2022-02-23T16%3A35%3A02.4441480%2B00%3A00',\n 'links': [{'description': None,\n            'href': 'https://demosetup.lusid.com/api/api/portfolios/Finbourne-Examples/FundingLegWithUnderlying?effectiveAt=2019-01-01T00%3A00%3A00.0000000%2B00%3A00&asAt=2022-02-23T16%3A35%3A02.4441480%2B00%3A00',\n            'method': 'GET',\n            'relation': 'Root'},\n           {'description': None,\n            'href': 'https://demosetup.lusid.com/api/api/schemas/entities/UpsertPortfolioTransactionsResponse',\n            'method': 'GET',\n            'relation': 'EntitySchema'},\n           {'description': 'A link to the LUSID Insights website showing all '\n                           'logs related to this request',\n            'href': 'http://demosetup.lusid.com/app/insights/logs/0HMFMOT6AR92N:00000021',\n            'method': 'GET',\n            'relation': 'RequestLogs'}],\n 'version': {'as_at_date': datetime.datetime(2022, 2, 23, 16, 35, 2, 444148, tzinfo=tzutc()),\n             'effective_from': datetime.datetime(2019, 1, 1, 0, 0, tzinfo=tzutc())}}"
     },
     "execution_count": 18,
     "metadata": {},
     "output_type": "execute_result"
    }
   ],
   "source": [
    "# Set the linking ID property key\n",
    "link_id_property_key = \"Transaction/common/LinkId\"\n",
    "\n",
    "# Create transaction request\n",
    "transaction_request = []\n",
    "for i, row in df.iterrows():\n",
    "    transaction_request.extend(\n",
    "        equity_swap_transaction(\n",
    "            api_factory=api_factory,\n",
    "            portfolio_scope=trading_scope,\n",
    "            portfolio_code=trading_code,\n",
    "            notional=row[\"notional\"],\n",
    "            number_of_shares=row[\"number_of_shares\"],\n",
    "            equity_identifier=row[\"equity_identifier\"],\n",
    "            funding_leg_identifier=row[\"funding_leg_identifier\"],\n",
    "            transaction_currency=row[\"transaction_currency\"],\n",
    "            direction=row[\"direction\"],\n",
    "            trade_date=row[\"trade_date\"],\n",
    "            transaction_id=row[\"transaction_id\"],\n",
    "            linking_id=row[\"linking_id\"],\n",
    "            linking_id_property=link_id_property_key,\n",
    "        )\n",
    "    )\n",
    "\n",
    "# Upsert transactions\n",
    "transaction_portfolios_api.upsert_transactions(\n",
    "    scope=trading_scope,\n",
    "    code=trading_code,\n",
    "    transaction_request=transaction_request\n",
    ")"
   ]
  },
  {
   "cell_type": "markdown",
   "id": "ce3e544b",
   "metadata": {},
   "source": [
    "# 2. Valuation\n",
    "For interacting with the valuation engine, we will need a configuration recipe, which are a set of steps that define how a valuation is to be carried out. Generally, this is part of LUSID configuration that requires a one time setup, below we will be focusing on the _FundingLeg_ instrument.\n",
    "\n",
    "## 2.1 Configure the valuation recipe\n",
    "We begin by defining the pricing context under which valuation will be done, this allows to select the model under which we can value the instrument. In our case we have selected _\"ConstantTimeValueOfMoney\"_, which will use a deterministic pricer to calculate our portfolio PV/Accrual."
   ]
  },
  {
   "cell_type": "code",
   "execution_count": 19,
   "id": "46e4a999",
   "metadata": {},
   "outputs": [],
   "source": [
    "# Define instrument model config\n",
    "instrument_models = {\n",
    "    \"FundingLeg\": \"ConstantTimeValueOfMoney\",\n",
    "    \"SimpleInstrument\": \"SimpleStatic\"\n",
    "}\n",
    "\n",
    "def create_pricing_context(market_supplier: str, instrument_model_config: dict):\n",
    "    \n",
    "    model_rules = [\n",
    "        lm.VendorModelRule(\n",
    "                supplier=market_supplier,\n",
    "                model_name=model,\n",
    "                instrument_type=instrument_type,\n",
    "                parameters=\"{}\",\n",
    "            )\n",
    "        for instrument_type, model in instrument_model_config.items()\n",
    "    ]\n",
    "    \n",
    "    return lm.PricingContext(\n",
    "        model_rules = model_rules,\n",
    "         options=lm.PricingOptions(\n",
    "            model_selection=lm.ModelSelection(\n",
    "                        library=market_supplier,\n",
    "                        model=\"SimpleStatic\"\n",
    "                    )\n",
    "         )\n",
    "    )\n",
    "\n",
    "# Create the pricing context for the recipe\n",
    "pricing_context = create_pricing_context(market_supplier, instrument_models)"
   ]
  },
  {
   "cell_type": "markdown",
   "id": "42839d15",
   "metadata": {},
   "source": [
    "Next, we need to define the market data context that will be used by the valuation engine. In this case we will set the market data provider as 'Lusid' and use our `market_data_scope`, as set previously.\n",
    "\n",
    "Moreover, within our market_rules, we need to specify the keys by which the valuation engine will resolve the discount curves and USD Libor fixings."
   ]
  },
  {
   "cell_type": "code",
   "execution_count": 20,
   "id": "fe6dc1c9",
   "metadata": {},
   "outputs": [],
   "source": [
    "def create_market_context(market_data_scope, supplier):\n",
    "    return lm.MarketContext(\n",
    "        # Set rules for where we should resolve our rates and equity data.\n",
    "        market_rules=[\n",
    "            lm.MarketDataKeyRule(\n",
    "                key='Equity.ClientInternal.*',\n",
    "                data_scope=market_data_scope,\n",
    "                supplier=supplier,\n",
    "                quote_type='Price',\n",
    "                field='mid',\n",
    "                quote_interval=\"2D.0D\"),\n",
    "             lm.MarketDataKeyRule(\n",
    "                key='Equity.RIC.*',\n",
    "                data_scope=market_data_scope,\n",
    "                supplier=supplier,\n",
    "                quote_type='Rate',\n",
    "                field='mid',\n",
    "                quote_interval=\"2D.0D\"),\n",
    "            lm.MarketDataKeyRule(\n",
    "                key='Equity.RIC.*',\n",
    "                data_scope=market_data_scope,\n",
    "                supplier=supplier,\n",
    "                quote_type='Price',\n",
    "                field='mid',\n",
    "                quote_interval=\"2D.0D\"),\n",
    "\n",
    "        ],\n",
    "        # Control default options for resolving market data.\n",
    "        options=lm.MarketOptions(\n",
    "            default_supplier=supplier,\n",
    "            default_instrument_code_type=\"ClientInternal\",\n",
    "            default_scope=market_data_scope)\n",
    "     )\n",
    "\n",
    "    return market_context\n",
    "\n",
    "# In our case simply default to the LUSID market_supplier.\n",
    "market_context = create_market_context(market_data_scope, market_supplier)"
   ]
  },
  {
   "cell_type": "markdown",
   "id": "36f00edc",
   "metadata": {},
   "source": [
    "With both the pricing model and market data defintions setup in the above models, we can finalize the pricing recipe as\n",
    "shown below using the\n",
    "[`ConfigurationRecipe`](https://github.com/finbourne/lusid-sdk-python-preview/blob/master/sdk/lusid/models/configuration_recipe.py) model.\n",
    "We will again set the market data scopes, as well as give our recipe a name/code and brief description."
   ]
  },
  {
   "cell_type": "code",
   "execution_count": 21,
   "id": "56457ebc",
   "metadata": {},
   "outputs": [],
   "source": [
    "# Set recipe code\n",
    "recipe_code = \"FundingLegSwap\"\n",
    "\n",
    "def create_pricing_recipe(scope, market_context, pricing_context):\n",
    "\n",
    "    return lm.ConfigurationRecipe(\n",
    "        scope=scope,\n",
    "        code=recipe_code,\n",
    "        description=\"Funding leg pricing recipe\",\n",
    "        market=market_context,\n",
    "        pricing=pricing_context\n",
    "    )\n",
    "\n",
    "# Create the funding leg pricing recipe using our market_data_scope\n",
    "pricing_recipe = create_pricing_recipe(market_data_scope, market_context, pricing_context)"
   ]
  },
  {
   "cell_type": "code",
   "execution_count": 22,
   "id": "e81fc720",
   "metadata": {},
   "outputs": [
    {
     "name": "stdout",
     "output_type": "stream",
     "text": [
      "Recipe upserted at 2022-02-24 11:41:36.445680+00:00\n"
     ]
    }
   ],
   "source": [
    "def upsert_recipe(recipe):\n",
    "    recipe_request = lm.UpsertRecipeRequest(\n",
    "        configuration_recipe = recipe\n",
    "    )\n",
    "    \n",
    "    return configuration_recipe_api.upsert_configuration_recipe(\n",
    "    upsert_recipe_request = recipe_request)\n",
    "\n",
    "# Upsert the previously created recipe to be used in valuation\n",
    "response = upsert_recipe(pricing_recipe)\n",
    "print(f\"Recipe upserted at {response.value}\")"
   ]
  },
  {
   "cell_type": "markdown",
   "id": "1bf1be0f",
   "metadata": {},
   "source": [
    "## 2.2 Aggregation\n",
    "With the recipes and configurations set for our swap book, we can query the valuation engine for accruals and market\n",
    "values of the instruments. This can be done using the [`AggregationApi`](https://www.lusid.com/docs/api#tag/Aggregation),\n",
    "as shown below."
   ]
  },
  {
   "cell_type": "code",
   "execution_count": 23,
   "id": "fe76f8cb",
   "metadata": {},
   "outputs": [],
   "source": [
    "def aggregate_pricing(portfolio_scope, portfolio_code, recipe_scope, recipe_code, metrics, effective_at, effective_from=None, group_by=[]):\n",
    "    valuation_request = lm.ValuationRequest(\n",
    "        recipe_id=lm.ResourceId(\n",
    "            scope=recipe_scope,\n",
    "            code=recipe_code\n",
    "        ),\n",
    "        metrics=metrics,\n",
    "            portfolio_entity_ids=[\n",
    "                lm.PortfolioEntityId(scope=portfolio_scope, code=portfolio_code)\n",
    "            ],\n",
    "            valuation_schedule=lm.ValuationSchedule(\n",
    "                effective_from=effective_from,\n",
    "                effective_at=effective_at\n",
    "            ),\n",
    "        sort=[\n",
    "            lm.OrderBySpec(key='Analytic/default/ValuationDate',\n",
    "            sort_order='Ascending')\n",
    "        ],\n",
    "        group_by=group_by\n",
    "        )\n",
    "    return aggregation_api.get_valuation(\n",
    "    valuation_request= valuation_request\n",
    "    )"
   ]
  },
  {
   "cell_type": "code",
   "execution_count": 24,
   "outputs": [],
   "source": [
    "# Create the metrics list for the desired data\n",
    "metrics = [\n",
    "        lm.AggregateSpec(key='Valuation/PV',\n",
    "                             op='Value'),\n",
    "        lm.AggregateSpec(key='Instrument/default/Name',\n",
    "                             op='Value'),\n",
    "        lm.AggregateSpec(key='Holding/default/Units',\n",
    "                             op='Value'),\n",
    "        lm.AggregateSpec(key='Valuation/Accrued',\n",
    "                             op='Value'),\n",
    "        lm.AggregateSpec(key='Analytic/default/ValuationDate',\n",
    "                             op='Value'),\n",
    "        ]\n",
    "# Store results\n",
    "results = aggregate_pricing(trading_scope, trading_code, market_data_scope, \"FundingLeg\", metrics, start_date + timedelta(days=8), start_date)"
   ],
   "metadata": {
    "collapsed": false,
    "pycharm": {
     "name": "#%%%\n"
    }
   }
  },
  {
   "cell_type": "markdown",
   "source": [
    "As seen below, we have successfully generated a series of valuations for the swap including the position PVs and\n",
    "accruals for the funding leg. We can also notice how the daily accrual changes as we increase or decrease the notional\n",
    "against the funding leg."
   ],
   "metadata": {
    "collapsed": false,
    "pycharm": {
     "name": "#%% md\n"
    }
   }
  },
  {
   "cell_type": "code",
   "execution_count": 25,
   "id": "a2f7d72a",
   "metadata": {
    "pycharm": {
     "name": "#%%\n"
    }
   },
   "outputs": [
    {
     "data": {
      "text/plain": "                                Valuation/Accrued  Valuation/PV  \\\nAnalytic/default/ValuationDate                                    \n05/04/2021                                   0.00     60,011.11   \n05/04/2021                                   0.00   -193,603.80   \n05/04/2021                                   0.00    200,000.00   \n06/04/2021                                 161.11     60,011.11   \n06/04/2021                                   0.00   -193,429.20   \n06/04/2021                                   0.00    200,000.00   \n07/04/2021                                 322.22     89,855.56   \n07/04/2021                                   0.00   -295,145.10   \n07/04/2021                                   0.00    300,000.00   \n08/04/2021                                 563.89     89,855.56   \n08/04/2021                                   0.00   -296,937.00   \n08/04/2021                                   0.00    300,000.00   \n09/04/2021                                 805.56     60,172.22   \n09/04/2021                                   0.00   -202,332.00   \n09/04/2021                                   0.00    200,000.00   \n\n                               Instrument/default/Name  Holding/default/Units  \nAnalytic/default/ValuationDate                                                 \n05/04/2021                               FundingLeg001            -200,000.00  \n05/04/2021                                      Amazon                 -60.00  \n05/04/2021                                         USD             200,000.00  \n06/04/2021                               FundingLeg001            -200,000.00  \n06/04/2021                                      Amazon                 -60.00  \n06/04/2021                                         USD             200,000.00  \n07/04/2021                               FundingLeg001            -300,000.00  \n07/04/2021                                      Amazon                 -90.00  \n07/04/2021                                         USD             300,000.00  \n08/04/2021                               FundingLeg001            -300,000.00  \n08/04/2021                                      Amazon                 -90.00  \n08/04/2021                                         USD             300,000.00  \n09/04/2021                               FundingLeg001            -200,000.00  \n09/04/2021                                      Amazon                 -60.00  \n09/04/2021                                         USD             200,000.00  ",
      "text/html": "<div>\n<style scoped>\n    .dataframe tbody tr th:only-of-type {\n        vertical-align: middle;\n    }\n\n    .dataframe tbody tr th {\n        vertical-align: top;\n    }\n\n    .dataframe thead th {\n        text-align: right;\n    }\n</style>\n<table border=\"1\" class=\"dataframe\">\n  <thead>\n    <tr style=\"text-align: right;\">\n      <th></th>\n      <th>Valuation/Accrued</th>\n      <th>Valuation/PV</th>\n      <th>Instrument/default/Name</th>\n      <th>Holding/default/Units</th>\n    </tr>\n    <tr>\n      <th>Analytic/default/ValuationDate</th>\n      <th></th>\n      <th></th>\n      <th></th>\n      <th></th>\n    </tr>\n  </thead>\n  <tbody>\n    <tr>\n      <th>05/04/2021</th>\n      <td>0.00</td>\n      <td>60,011.11</td>\n      <td>FundingLeg001</td>\n      <td>-200,000.00</td>\n    </tr>\n    <tr>\n      <th>05/04/2021</th>\n      <td>0.00</td>\n      <td>-193,603.80</td>\n      <td>Amazon</td>\n      <td>-60.00</td>\n    </tr>\n    <tr>\n      <th>05/04/2021</th>\n      <td>0.00</td>\n      <td>200,000.00</td>\n      <td>USD</td>\n      <td>200,000.00</td>\n    </tr>\n    <tr>\n      <th>06/04/2021</th>\n      <td>161.11</td>\n      <td>60,011.11</td>\n      <td>FundingLeg001</td>\n      <td>-200,000.00</td>\n    </tr>\n    <tr>\n      <th>06/04/2021</th>\n      <td>0.00</td>\n      <td>-193,429.20</td>\n      <td>Amazon</td>\n      <td>-60.00</td>\n    </tr>\n    <tr>\n      <th>06/04/2021</th>\n      <td>0.00</td>\n      <td>200,000.00</td>\n      <td>USD</td>\n      <td>200,000.00</td>\n    </tr>\n    <tr>\n      <th>07/04/2021</th>\n      <td>322.22</td>\n      <td>89,855.56</td>\n      <td>FundingLeg001</td>\n      <td>-300,000.00</td>\n    </tr>\n    <tr>\n      <th>07/04/2021</th>\n      <td>0.00</td>\n      <td>-295,145.10</td>\n      <td>Amazon</td>\n      <td>-90.00</td>\n    </tr>\n    <tr>\n      <th>07/04/2021</th>\n      <td>0.00</td>\n      <td>300,000.00</td>\n      <td>USD</td>\n      <td>300,000.00</td>\n    </tr>\n    <tr>\n      <th>08/04/2021</th>\n      <td>563.89</td>\n      <td>89,855.56</td>\n      <td>FundingLeg001</td>\n      <td>-300,000.00</td>\n    </tr>\n    <tr>\n      <th>08/04/2021</th>\n      <td>0.00</td>\n      <td>-296,937.00</td>\n      <td>Amazon</td>\n      <td>-90.00</td>\n    </tr>\n    <tr>\n      <th>08/04/2021</th>\n      <td>0.00</td>\n      <td>300,000.00</td>\n      <td>USD</td>\n      <td>300,000.00</td>\n    </tr>\n    <tr>\n      <th>09/04/2021</th>\n      <td>805.56</td>\n      <td>60,172.22</td>\n      <td>FundingLeg001</td>\n      <td>-200,000.00</td>\n    </tr>\n    <tr>\n      <th>09/04/2021</th>\n      <td>0.00</td>\n      <td>-202,332.00</td>\n      <td>Amazon</td>\n      <td>-60.00</td>\n    </tr>\n    <tr>\n      <th>09/04/2021</th>\n      <td>0.00</td>\n      <td>200,000.00</td>\n      <td>USD</td>\n      <td>200,000.00</td>\n    </tr>\n  </tbody>\n</table>\n</div>"
     },
     "metadata": {},
     "output_type": "display_data"
    }
   ],
   "source": [
    "# Display PVs\n",
    "valuations = valuation_response_to_df(results)\n",
    "valuations['Analytic/default/ValuationDate'] = valuations['Analytic/default/ValuationDate'].apply(lambda x : parse(x).strftime('%d/%m/%Y'))\n",
    "valuations.set_index('Analytic/default/ValuationDate', inplace=True)\n",
    "display(valuations)"
   ]
  },
  {
   "cell_type": "markdown",
   "source": [
    "Similarly, we can also group the valuations by the previously created `linkId`, so that the equity swap package gets valued as a single line for each date.\n",
    "\n",
    "This is illustrated below, notice we group by both the sub-holding key and the valuation date in our request."
   ],
   "metadata": {
    "collapsed": false,
    "pycharm": {
     "name": "#%% md\n"
    }
   }
  },
  {
   "cell_type": "code",
   "execution_count": 26,
   "outputs": [],
   "source": [
    "# Create a new metrics list, changing the op to 'Sum'\n",
    "metrics = [\n",
    "        lm.AggregateSpec(key='Valuation/PV',\n",
    "                             op='Sum'),\n",
    "        lm.AggregateSpec(key='Transaction/common/LinkId',\n",
    "                             op='Value'),\n",
    "        lm.AggregateSpec(key='Valuation/Accrued',\n",
    "                             op='Sum'),\n",
    "        lm.AggregateSpec(key='Analytic/default/ValuationDate',\n",
    "                             op='Value'),\n",
    "        ]\n",
    "# Store results\n",
    "results = aggregate_pricing(\n",
    "    trading_scope,\n",
    "    trading_code,\n",
    "    market_data_scope,\n",
    "    recipe_code,\n",
    "    metrics,\n",
    "    start_date + timedelta(days=8),\n",
    "    start_date,\n",
    "    group_by=[\n",
    "        'Transaction/common/LinkId',\n",
    "        'Analytic/default/ValuationDate'\n",
    "    ]\n",
    ")"
   ],
   "metadata": {
    "collapsed": false,
    "pycharm": {
     "name": "#%%\n"
    }
   }
  },
  {
   "cell_type": "code",
   "execution_count": 27,
   "outputs": [
    {
     "data": {
      "text/plain": "                               Transaction/common/LinkId  Sum(Valuation/PV)  \\\nAnalytic/default/ValuationDate                                                \n05/04/2021                              EQ-SW-SHORT-AMZN          66,407.31   \n06/04/2021                              EQ-SW-SHORT-AMZN          66,581.91   \n07/04/2021                              EQ-SW-SHORT-AMZN          94,710.46   \n08/04/2021                              EQ-SW-SHORT-AMZN          92,918.56   \n09/04/2021                              EQ-SW-SHORT-AMZN          57,840.22   \n\n                                Sum(Valuation/Accrued)  \nAnalytic/default/ValuationDate                          \n05/04/2021                                        0.00  \n06/04/2021                                      161.11  \n07/04/2021                                      322.22  \n08/04/2021                                      563.89  \n09/04/2021                                      805.56  ",
      "text/html": "<div>\n<style scoped>\n    .dataframe tbody tr th:only-of-type {\n        vertical-align: middle;\n    }\n\n    .dataframe tbody tr th {\n        vertical-align: top;\n    }\n\n    .dataframe thead th {\n        text-align: right;\n    }\n</style>\n<table border=\"1\" class=\"dataframe\">\n  <thead>\n    <tr style=\"text-align: right;\">\n      <th></th>\n      <th>Transaction/common/LinkId</th>\n      <th>Sum(Valuation/PV)</th>\n      <th>Sum(Valuation/Accrued)</th>\n    </tr>\n    <tr>\n      <th>Analytic/default/ValuationDate</th>\n      <th></th>\n      <th></th>\n      <th></th>\n    </tr>\n  </thead>\n  <tbody>\n    <tr>\n      <th>05/04/2021</th>\n      <td>EQ-SW-SHORT-AMZN</td>\n      <td>66,407.31</td>\n      <td>0.00</td>\n    </tr>\n    <tr>\n      <th>06/04/2021</th>\n      <td>EQ-SW-SHORT-AMZN</td>\n      <td>66,581.91</td>\n      <td>161.11</td>\n    </tr>\n    <tr>\n      <th>07/04/2021</th>\n      <td>EQ-SW-SHORT-AMZN</td>\n      <td>94,710.46</td>\n      <td>322.22</td>\n    </tr>\n    <tr>\n      <th>08/04/2021</th>\n      <td>EQ-SW-SHORT-AMZN</td>\n      <td>92,918.56</td>\n      <td>563.89</td>\n    </tr>\n    <tr>\n      <th>09/04/2021</th>\n      <td>EQ-SW-SHORT-AMZN</td>\n      <td>57,840.22</td>\n      <td>805.56</td>\n    </tr>\n  </tbody>\n</table>\n</div>"
     },
     "metadata": {},
     "output_type": "display_data"
    }
   ],
   "source": [
    "# Display PVs\n",
    "valuations = valuation_response_to_df(results)\n",
    "valuations['Analytic/default/ValuationDate'] = valuations['Analytic/default/ValuationDate'].apply(lambda x : parse(x).strftime('%d/%m/%Y'))\n",
    "valuations.set_index('Analytic/default/ValuationDate', inplace=True)\n",
    "display(valuations)"
   ],
   "metadata": {
    "collapsed": false,
    "pycharm": {
     "name": "#%%\n"
    }
   }
  },
  {
   "cell_type": "markdown",
   "source": [
    "# 3. Life-Cycle events\n",
    "\n",
    "### 3.1 Processing Interest Payments\n",
    "\n",
    "In order to process interest payments, LUSID has a set of native cashflow APIs that can be used to project such payments.\n",
    "In the case of the funding leg, as the upcoming payment's all-in rate is known using the latest fixing, a call to\n",
    "[`GetUpsertableCashFlows`](https://www.lusid.com/docs/api#operation/GetUpsertablePortfolioCashFlows) will show a projected\n",
    "payment.\n",
    "\n",
    "A user then has the choice of either using the projection as additional data, or, upsert the response as a transaction\n",
    "which will apply a cash movement for the interest amount.\n",
    "\n",
    "Note that this payment assumes no further transactions will occur within the accrual period, which means these are best\n",
    "processed at the end of the period."
   ],
   "metadata": {
    "collapsed": false,
    "pycharm": {
     "name": "#%% md\n"
    }
   }
  },
  {
   "cell_type": "code",
   "execution_count": 28,
   "outputs": [
    {
     "data": {
      "text/plain": "                                      transaction_id      type  \\\n0  -05/03/2021 00:00:00 +00:00-5295.8333333333333...  CashFlow   \n\n  instrument_identifiers.Instrument/default/Currency instrument_uid  \\\n0                                                USD  LUID_00003DFU   \n\n           transaction_date           settlement_date     units  \\\n0 2021-05-03 00:00:00+00:00 2021-05-03 00:00:00+00:00 -5,295.83   \n\n   transaction_price.price transaction_price.type  total_consideration.amount  \\\n0                     1.00                  Price                   -5,295.83   \n\n  total_consideration.currency  exchange_rate transaction_currency  \\\n0                          USD           1.00                  USD   \n\n  properties.Transaction/common/HoldingClass.key  \\\n0                Transaction/common/HoldingClass   \n\n  properties.Transaction/common/HoldingClass.value.label_value  \\\n0                                           Interest             \n\n  properties.Transaction/common/LinkId.key  \\\n0                Transaction/common/LinkId   \n\n  properties.Transaction/common/LinkId.value.label_value source  \\\n0                                    EQ-SW-LONG-AMZN              \n\n             entry_date_time  \n0  0001-01-01 00:00:00+00:00  ",
      "text/html": "<div>\n<style scoped>\n    .dataframe tbody tr th:only-of-type {\n        vertical-align: middle;\n    }\n\n    .dataframe tbody tr th {\n        vertical-align: top;\n    }\n\n    .dataframe thead th {\n        text-align: right;\n    }\n</style>\n<table border=\"1\" class=\"dataframe\">\n  <thead>\n    <tr style=\"text-align: right;\">\n      <th></th>\n      <th>transaction_id</th>\n      <th>type</th>\n      <th>instrument_identifiers.Instrument/default/Currency</th>\n      <th>instrument_uid</th>\n      <th>transaction_date</th>\n      <th>settlement_date</th>\n      <th>units</th>\n      <th>transaction_price.price</th>\n      <th>transaction_price.type</th>\n      <th>total_consideration.amount</th>\n      <th>total_consideration.currency</th>\n      <th>exchange_rate</th>\n      <th>transaction_currency</th>\n      <th>properties.Transaction/common/HoldingClass.key</th>\n      <th>properties.Transaction/common/HoldingClass.value.label_value</th>\n      <th>properties.Transaction/common/LinkId.key</th>\n      <th>properties.Transaction/common/LinkId.value.label_value</th>\n      <th>source</th>\n      <th>entry_date_time</th>\n    </tr>\n  </thead>\n  <tbody>\n    <tr>\n      <th>0</th>\n      <td>-05/03/2021 00:00:00 +00:00-5295.8333333333333...</td>\n      <td>CashFlow</td>\n      <td>USD</td>\n      <td>LUID_00003DFU</td>\n      <td>2021-05-03 00:00:00+00:00</td>\n      <td>2021-05-03 00:00:00+00:00</td>\n      <td>-5,295.83</td>\n      <td>1.00</td>\n      <td>Price</td>\n      <td>-5,295.83</td>\n      <td>USD</td>\n      <td>1.00</td>\n      <td>USD</td>\n      <td>Transaction/common/HoldingClass</td>\n      <td>Interest</td>\n      <td>Transaction/common/LinkId</td>\n      <td>EQ-SW-LONG-AMZN</td>\n      <td></td>\n      <td>0001-01-01 00:00:00+00:00</td>\n    </tr>\n  </tbody>\n</table>\n</div>"
     },
     "execution_count": 28,
     "metadata": {},
     "output_type": "execute_result"
    }
   ],
   "source": [
    "# Query upsertable cashflows\n",
    "cash_flows = transaction_portfolios_api.get_upsertable_portfolio_cash_flows(\n",
    "    scope=trading_scope,\n",
    "    code=trading_code,\n",
    "    effective_at=start_date,\n",
    "    window_start=start_date,\n",
    "    window_end=start_date + timedelta(days=45),\n",
    "    recipe_id_scope=market_data_scope,\n",
    "    recipe_id_code=recipe_code\n",
    ")\n",
    "\n",
    "# Add Interest SHK value\n",
    "for element in cash_flows.values:\n",
    "    element.instrument_identifiers = {\"Instrument/default/Currency\": \"USD\"}\n",
    "    element.properties = {\n",
    "        f\"Transaction/common/HoldingClass\": lm.PerpetualProperty(\n",
    "            key=f\"Transaction/common/HoldingClass\",\n",
    "            value=lm.PropertyValue(label_value=\"Interest\")\n",
    "        ),\n",
    "        f\"Transaction/common/LinkId\": lm.PerpetualProperty(\n",
    "            key=f\"Transaction/common/LinkId\",\n",
    "            value=lm.PropertyValue(label_value=\"EQ-SW-LONG-AMZN\")\n",
    "        ),\n",
    "    }\n",
    "\n",
    "lusid_response_to_data_frame(cash_flows)"
   ],
   "metadata": {
    "collapsed": false,
    "pycharm": {
     "name": "#%%\n"
    }
   }
  },
  {
   "cell_type": "code",
   "execution_count": 29,
   "outputs": [
    {
     "name": "stdout",
     "output_type": "stream",
     "text": [
      "Transactions succesfully updated at time: 2022-02-23 16:35:02.444148+00:00\n"
     ]
    }
   ],
   "source": [
    "# Upsert and apply the payment to the portfolio\n",
    "response = transaction_portfolios_api.upsert_transactions(\n",
    "    scope=trading_scope,\n",
    "    code=trading_code,\n",
    "    transaction_request=cash_flows.values\n",
    "  )\n",
    "\n",
    "print(f\"Transactions succesfully updated at time: {response.version.as_at_date}\")"
   ],
   "metadata": {
    "collapsed": false,
    "pycharm": {
     "name": "#%%\n"
    }
   }
  },
  {
   "cell_type": "markdown",
   "source": [
    "# 4. Profit and Loss\n",
    "\n",
    "### 4.1 A2B Report\n",
    "\n",
    "For breaking down the profit and loss occurred in a given period, LUSID offers an A2B report, see\n",
    "[here](https://www.lusid.com/docs/api#operation/GetA2BData) for documentation.\n",
    "\n",
    "The AtoB report will give a breakdown of each holding's P&L, including the flows (transactions) that have occurred in\n",
    "the selected window. Within the report you will find the following detail:\n",
    "\n",
    "-\t**Market Value (Start)**: The market value at the start of the window.\n",
    "-\t**CapGain**: Capital Gain, or gain due to asset appreciation based on available market data.\n",
    "-\t**Carry:** Interest and dividend accruals where applicable, also known as carry return.\n",
    "-\t**Flows:** Any transaction activity occurring in the period (buys, sells, etc.).\n",
    "-\t**Market Value (End)**: The market value of the security at the end of the window.\n",
    "\n",
    "As can be seen below, the report includes the total gains and the flows shown for each unique sub-holding. Note, the\n",
    "following table has been filtered down to some core fields."
   ],
   "metadata": {
    "collapsed": false,
    "pycharm": {
     "name": "#%% md\n"
    }
   }
  },
  {
   "cell_type": "code",
   "execution_count": 30,
   "outputs": [
    {
     "data": {
      "text/plain": "   portfolio_id.scope         portfolio_id.code holding_type instrument_uid  \\\n0  Finbourne-Examples  FundingLegWithUnderlying            B        CCY_USD   \n1  Finbourne-Examples  FundingLegWithUnderlying            B        CCY_USD   \n2  Finbourne-Examples  FundingLegWithUnderlying            B        CCY_USD   \n3  Finbourne-Examples  FundingLegWithUnderlying            P  LUID_00003DFS   \n4  Finbourne-Examples  FundingLegWithUnderlying            P  LUID_00003DFT   \n5  Finbourne-Examples  FundingLegWithUnderlying            P  LUID_00003DFT   \n6  Finbourne-Examples  FundingLegWithUnderlying            P  LUID_00003DFU   \n\n  sub_holding_keys.Transaction/common/LinkId.value.label_value  \\\n0                                    EQ-SW-LONG-AMZN             \n1                                    EQ-SW-LONG-AMZN             \n2                                   EQ-SW-SHORT-AMZN             \n3                                   EQ-SW-SHORT-AMZN             \n4                                    EQ-SW-LONG-AMZN             \n5                                   EQ-SW-SHORT-AMZN             \n6                                    EQ-SW-LONG-AMZN             \n\n  sub_holding_keys.Transaction/common/HoldingClass.value.label_value  \\\n0                                           Interest                   \n1                                     Synthetic-Cash                   \n2                                     Synthetic-Cash                   \n3                                          Positions                   \n4                                          Positions                   \n5                                          Positions                   \n6                                          Positions                   \n\n   flows.portfolio_currency.total  end.portfolio_currency.total  \\\n0                       -5,295.83                     -5,295.83   \n1                     -350,000.00                   -350,000.00   \n2                     -200,000.00                           nan   \n3                             nan                           nan   \n4                      350,000.00                    347,746.35   \n5                      200,000.00                           nan   \n6                             nan                    -97,406.94   \n\n  properties.Instrument/default/Name.value.label_value  \\\n0                                                USD     \n1                                                USD     \n2                                                USD     \n3                                      FundingLeg001     \n4                                             Amazon     \n5                                             Amazon     \n6                                      FundingLeg002     \n\n   start.portfolio_currency.total  gains.portfolio_currency.total  \\\n0                             nan                             nan   \n1                             nan                             nan   \n2                      200,000.00                             nan   \n3                       60,011.11                      -60,011.11   \n4                             nan                       -2,253.65   \n5                     -193,603.80                       -6,396.20   \n6                             nan                      -97,708.33   \n\n   carry.portfolio_currency.total  \n0                             nan  \n1                             nan  \n2                             nan  \n3                             nan  \n4                             nan  \n5                             nan  \n6                          301.39  ",
      "text/html": "<div>\n<style scoped>\n    .dataframe tbody tr th:only-of-type {\n        vertical-align: middle;\n    }\n\n    .dataframe tbody tr th {\n        vertical-align: top;\n    }\n\n    .dataframe thead th {\n        text-align: right;\n    }\n</style>\n<table border=\"1\" class=\"dataframe\">\n  <thead>\n    <tr style=\"text-align: right;\">\n      <th></th>\n      <th>portfolio_id.scope</th>\n      <th>portfolio_id.code</th>\n      <th>holding_type</th>\n      <th>instrument_uid</th>\n      <th>sub_holding_keys.Transaction/common/LinkId.value.label_value</th>\n      <th>sub_holding_keys.Transaction/common/HoldingClass.value.label_value</th>\n      <th>flows.portfolio_currency.total</th>\n      <th>end.portfolio_currency.total</th>\n      <th>properties.Instrument/default/Name.value.label_value</th>\n      <th>start.portfolio_currency.total</th>\n      <th>gains.portfolio_currency.total</th>\n      <th>carry.portfolio_currency.total</th>\n    </tr>\n  </thead>\n  <tbody>\n    <tr>\n      <th>0</th>\n      <td>Finbourne-Examples</td>\n      <td>FundingLegWithUnderlying</td>\n      <td>B</td>\n      <td>CCY_USD</td>\n      <td>EQ-SW-LONG-AMZN</td>\n      <td>Interest</td>\n      <td>-5,295.83</td>\n      <td>-5,295.83</td>\n      <td>USD</td>\n      <td>nan</td>\n      <td>nan</td>\n      <td>nan</td>\n    </tr>\n    <tr>\n      <th>1</th>\n      <td>Finbourne-Examples</td>\n      <td>FundingLegWithUnderlying</td>\n      <td>B</td>\n      <td>CCY_USD</td>\n      <td>EQ-SW-LONG-AMZN</td>\n      <td>Synthetic-Cash</td>\n      <td>-350,000.00</td>\n      <td>-350,000.00</td>\n      <td>USD</td>\n      <td>nan</td>\n      <td>nan</td>\n      <td>nan</td>\n    </tr>\n    <tr>\n      <th>2</th>\n      <td>Finbourne-Examples</td>\n      <td>FundingLegWithUnderlying</td>\n      <td>B</td>\n      <td>CCY_USD</td>\n      <td>EQ-SW-SHORT-AMZN</td>\n      <td>Synthetic-Cash</td>\n      <td>-200,000.00</td>\n      <td>nan</td>\n      <td>USD</td>\n      <td>200,000.00</td>\n      <td>nan</td>\n      <td>nan</td>\n    </tr>\n    <tr>\n      <th>3</th>\n      <td>Finbourne-Examples</td>\n      <td>FundingLegWithUnderlying</td>\n      <td>P</td>\n      <td>LUID_00003DFS</td>\n      <td>EQ-SW-SHORT-AMZN</td>\n      <td>Positions</td>\n      <td>nan</td>\n      <td>nan</td>\n      <td>FundingLeg001</td>\n      <td>60,011.11</td>\n      <td>-60,011.11</td>\n      <td>nan</td>\n    </tr>\n    <tr>\n      <th>4</th>\n      <td>Finbourne-Examples</td>\n      <td>FundingLegWithUnderlying</td>\n      <td>P</td>\n      <td>LUID_00003DFT</td>\n      <td>EQ-SW-LONG-AMZN</td>\n      <td>Positions</td>\n      <td>350,000.00</td>\n      <td>347,746.35</td>\n      <td>Amazon</td>\n      <td>nan</td>\n      <td>-2,253.65</td>\n      <td>nan</td>\n    </tr>\n    <tr>\n      <th>5</th>\n      <td>Finbourne-Examples</td>\n      <td>FundingLegWithUnderlying</td>\n      <td>P</td>\n      <td>LUID_00003DFT</td>\n      <td>EQ-SW-SHORT-AMZN</td>\n      <td>Positions</td>\n      <td>200,000.00</td>\n      <td>nan</td>\n      <td>Amazon</td>\n      <td>-193,603.80</td>\n      <td>-6,396.20</td>\n      <td>nan</td>\n    </tr>\n    <tr>\n      <th>6</th>\n      <td>Finbourne-Examples</td>\n      <td>FundingLegWithUnderlying</td>\n      <td>P</td>\n      <td>LUID_00003DFU</td>\n      <td>EQ-SW-LONG-AMZN</td>\n      <td>Positions</td>\n      <td>nan</td>\n      <td>-97,406.94</td>\n      <td>FundingLeg002</td>\n      <td>nan</td>\n      <td>-97,708.33</td>\n      <td>301.39</td>\n    </tr>\n  </tbody>\n</table>\n</div>"
     },
     "execution_count": 30,
     "metadata": {},
     "output_type": "execute_result"
    }
   ],
   "source": [
    "# Request A2B report\n",
    "a2b = transaction_portfolios_api.get_a2_b_data(\n",
    "    scope=trading_scope,\n",
    "    code=trading_code,\n",
    "    from_effective_at=datetime(2021, 4, 5, tzinfo=pytz.utc),\n",
    "    to_effective_at=datetime(2021, 5, 4, tzinfo=pytz.utc),\n",
    "    recipe_id_scope=market_data_scope,\n",
    "    recipe_id_code=recipe_code,\n",
    "    property_keys=[\"Instrument/default/Name\"]\n",
    ")\n",
    "\n",
    "# Reduce column properties\n",
    "exclude = [\"holding_currency\",\"components\", \"group_id\",]\n",
    "include = [\"portfolio_id\", \"holding_type\", \"label_value\", \"total\", \"instrument_uid\"]\n",
    "\n",
    "a2b_df = lusid_response_to_data_frame(a2b)\n",
    "a2b_df = clean_df_cols(a2b_df, exclude, include)\n",
    "a2b_df\n"
   ],
   "metadata": {
    "collapsed": false,
    "pycharm": {
     "name": "#%%\n"
    }
   }
  }
 ],
 "metadata": {
  "kernelspec": {
   "display_name": "Python 3 (ipykernel)",
   "language": "python",
   "name": "python3"
  },
  "language_info": {
   "codemirror_mode": {
    "name": "ipython",
    "version": 3
   },
   "file_extension": ".py",
   "mimetype": "text/x-python",
   "name": "python",
   "nbconvert_exporter": "python",
   "pygments_lexer": "ipython3",
   "version": "3.9.7"
  }
 },
 "nbformat": 4,
 "nbformat_minor": 5
}